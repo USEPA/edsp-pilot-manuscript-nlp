{
 "cells": [
  {
   "cell_type": "code",
   "execution_count": 1,
   "id": "b0f9a392-1b98-4704-a3b6-37bff32a3c17",
   "metadata": {},
   "outputs": [],
   "source": [
    "import pandas as pd\n",
    "import requests\n",
    "import json\n",
    "import numpy as np\n",
    "\n",
    "from sklearn.metrics.pairwise import cosine_similarity\n",
    "\n",
    "pd.set_option('display.max_colwidth', 0)"
   ]
  },
  {
   "cell_type": "markdown",
   "id": "42f88776-5058-48aa-bc52-6dcfa0469d07",
   "metadata": {},
   "source": [
    "# Article Similarity\n",
    "\n",
    "This notebook will demonstrate the method of cosine simliarity ranking. For this demonstration, our seed articles of interest will be from the \"Pilots\" project.  We'll then rank each of articles from the \"Target 1\" project by how semantically similiar their titles and abstracts are to the titles and abstracts in a representative \"Pilots\" project embedding."
   ]
  },
  {
   "cell_type": "code",
   "execution_count": 2,
   "id": "cc088cb6-50d0-4c7e-93d5-b31ed4eed45e",
   "metadata": {},
   "outputs": [],
   "source": [
    "### DATA ###\n",
    "df_all = pd.read_csv(\"../data/target1_cleaned.csv\")\n",
    "df_pilot = df_all[df_all[\"Project\"] == \"Pilots\"]\n",
    "df_t1 = df_all[df_all[\"Project\"] == \"t1\"]\n",
    "\n",
    "### EMBEDDINGS ###\n",
    "with open(\"../embeddings/specter_embeddings_target1.json\", \"r\") as fp:\n",
    "    specter_json = json.load(fp)\n",
    "specter_pilot_embed = [i[\"embedding\"] for i in specter_json if i[\"id\"] in df_pilot.index]\n",
    "specter_t1_embed = [i[\"embedding\"] for i in specter_json if i[\"id\"] in df_t1.index]"
   ]
  },
  {
   "cell_type": "code",
   "execution_count": 3,
   "id": "e193d334-f156-4566-ac71-6920fa16a8bc",
   "metadata": {},
   "outputs": [
    {
     "name": "stderr",
     "output_type": "stream",
     "text": [
      "/var/folders/b1/nx1fmhtd2vqft9l0gtwl646r0000gq/T/ipykernel_24795/2828443970.py:8: SettingWithCopyWarning: \n",
      "A value is trying to be set on a copy of a slice from a DataFrame.\n",
      "Try using .loc[row_indexer,col_indexer] = value instead\n",
      "\n",
      "See the caveats in the documentation: https://pandas.pydata.org/pandas-docs/stable/user_guide/indexing.html#returning-a-view-versus-a-copy\n",
      "  df_t1.loc[:,\"cosine_similarity\"] = cosine_sim[0]\n"
     ]
    }
   ],
   "source": [
    "# Create mean embedding for the Pilots papers\n",
    "mean_embed = np.array(specter_pilot_embed).mean(axis=0).reshape(1, -1)\n",
    "\n",
    "# Calculate cosine simliarity of each title and abstract text in Target 1 to the mean embedding for the Pilots papers\n",
    "cosine_sim = cosine_similarity(mean_embed, specter_t1_embed)\n",
    "\n",
    "# Append cosine simliarity to dataframe\n",
    "df_t1.loc[:,\"cosine_similarity\"] = cosine_sim[0]"
   ]
  },
  {
   "cell_type": "markdown",
   "id": "065ed778-083a-4647-8eaf-678719036eae",
   "metadata": {},
   "source": [
    "### Articles with Highest Cosine Simliarity"
   ]
  },
  {
   "cell_type": "code",
   "execution_count": 4,
   "id": "701ace07-b6ba-40ec-826c-256f5f2fcaf4",
   "metadata": {},
   "outputs": [
    {
     "data": {
      "text/html": [
       "<div>\n",
       "<style scoped>\n",
       "    .dataframe tbody tr th:only-of-type {\n",
       "        vertical-align: middle;\n",
       "    }\n",
       "\n",
       "    .dataframe tbody tr th {\n",
       "        vertical-align: top;\n",
       "    }\n",
       "\n",
       "    .dataframe thead th {\n",
       "        text-align: right;\n",
       "    }\n",
       "</style>\n",
       "<table border=\"1\" class=\"dataframe\">\n",
       "  <thead>\n",
       "    <tr style=\"text-align: right;\">\n",
       "      <th></th>\n",
       "      <th>Refid</th>\n",
       "      <th>Title</th>\n",
       "      <th>Abstract</th>\n",
       "      <th>cosine_similarity</th>\n",
       "    </tr>\n",
       "  </thead>\n",
       "  <tbody>\n",
       "    <tr>\n",
       "      <th>439</th>\n",
       "      <td>8632166</td>\n",
       "      <td>Thyroid Hormones and Derivatives: Endogenous Thyroid Hormones and Their Targets</td>\n",
       "      <td>More than a century after the discovery of L-Thyroxine, the main thyroid hormone secreted solely by the thyroid gland, several metabolites of this iodinated, tyrosine-derived ancestral hormone have been identified. These are utilized as hormones during development, differentiation, metamorphosis, and regulation of most biochemical reactions in vertebrates and their precursor species. Among those metabolites are the thyromimetically active 3,3', 5-Triiodo-L-thyronine (T3) and 3,5-Diiodo-L-thronine, reverse-T3 (3,3', 5'-Triiodo-L-thyronine) with still unclear function, the recently re-discovered thyronamines (e.g., 3-Iodo-thyronamine), which exert in part T3-antagonistic functions, the thyroacetic acids (e.g., Tetrac and Triac), as well as various sulfated or glucuronidated metabolites of this panel of iodinated signaling compounds. In the blood most of these hydrophobic metabolites are tightly bound to the serum distributor proteins thyroxine binding globulin (TBG), transthyretin (TTR), albumin or apolipoprotein B100. Cellular import and export of these charged, highly hydrophobic amino acid derivatives requires a number of cell-membrane transporters or facilitators such as MCT8 or MCT10 and members of the OATP and LAT families of transporters. Depending on their structure, the thyroid hormone metabolites exert their cellular action by binding and thus modulating the function of various receptors systems (e.g., alpha nu beta 3 integrin receptor and transient receptor potential channels (TRPM8) of the cell membrane), in part linked to intracellular downstream kinase signaling cascades, and several isoforms of membrane-associated, mitochondrial or nuclear thyroid hormone receptors (TR), which are members of the c-erbA family of ligand-modulated transcription factors. Intracellular deiodinase selenoenzymes, which obligatory are membrane integrated enzymes, ornithine decarboxylase and monoamine oxidases control local availability of biologically active thyroid hormone metabolites. Inactivation of thyroid hormone metabolites occurs mainly by deiodination, sulfation or glucuronidation, reactions which favor their renal or fecal elimination.</td>\n",
       "      <td>0.931197</td>\n",
       "    </tr>\n",
       "    <tr>\n",
       "      <th>723</th>\n",
       "      <td>7973177</td>\n",
       "      <td>Chemistry and Biology in the Biosynthesis and Action of Thyroid Hormones</td>\n",
       "      <td>Thyroid hormones (THs) are secreted by the thyroid gland. They control lipid, carbohydrate, and protein metabolism, heart rate, neural development, as well as cardiovascular, renal, and brain functions. The thyroid gland mainly produces l-thyroxine (T4) as a prohormone, and 5'-deiodination of T4 by iodothyronine deiodinases generates the nuclear receptor binding hormone T3. In this Review, we discuss the basic aspects of the chemistry and biology as well as recent advances in the biosynthesis of THs in the thyroid gland, plasma transport, and internalization of THs in their target organs, in addition to the deiodination and various other enzyme-mediated metabolic pathways of THs. We also discuss thyroid hormone receptors and their mechanism of action to regulate gene expression, as well as various thyroid-related disorders and the available treatments.</td>\n",
       "      <td>0.928544</td>\n",
       "    </tr>\n",
       "    <tr>\n",
       "      <th>922</th>\n",
       "      <td>1300760</td>\n",
       "      <td>3-Iodothyronamine is an endogenous and rapid-acting derivative of thyroid hormone</td>\n",
       "      <td>Thyroxine (T(4)) is the predominant form of thyroid hormone (TH). Hyperthyroidism, a condition associated with excess TH, is characterized by increases in metabolic rate, core body temperature and cardiac performance. In target tissues, T(4) is enzymatically deiodinated to 3,5,3'-triiodothyronine (T(3)), a high-affinity ligand for the nuclear TH receptors TR alpha and TR beta, whose activation controls normal vertebrate development and physiology. T(3)-modulated transcription of target genes via activation of TR alpha and TR beta is a slow process, the effects of which manifest over hours and days. Although rapidly occurring effects of TH have been documented, the molecules that mediate these non-genomic effects remain obscure. Here we report the discovery of 3-iodothyronamine (T(1)AM), a naturally occurring derivative of TH that in vitro is a potent agonist of the G protein-coupled trace amine receptor TAR1. Administering T(1)AM in vivo induces profound hypothermia and bradycardia within minutes. T(1)AM treatment also rapidly reduces cardiac output in an ex vivo working heart preparation. These results suggest the existence of a new signaling pathway, stimulation of which leads to rapid physiological and behavioral consequences that are opposite those associated with excess TH.</td>\n",
       "      <td>0.921258</td>\n",
       "    </tr>\n",
       "    <tr>\n",
       "      <th>674</th>\n",
       "      <td>7651060</td>\n",
       "      <td>Thyroid hormone transporters in health and disease</td>\n",
       "      <td>Cellular entry is required for conversion of thyroid hormone by the intracellular deiodinases and for binding of 3,3',5-triiodothyronine (T(3)) to its nuclear receptors. Recently, several transporters capable of thyroid hormone transport have been identified. Functional expression studies using Xenopus laevis oocytes have demonstrated that organic anion transporters (e.g., OATPs), and L-type amino acid transporters (LATs) facilitate thyroid hormone uptake. Among these, OATP1C1 has a high affinity and specificity for thyroxine (T(4)). OATP1C1 is expressed in capillaries throughout the brain, suggesting it is critical for transport of T(4) over the blood-brain barrier. We have also characterized a member of the monocarboxylate transporter family, MCT8, as a very active and specific thyroid hormone transporter. Human MCT8 shows preference for T(3) as the ligand. MCT8 is highly expressed in liver and brain but is also widely distributed in other tissues. The MCT8 gene is located on the X chromosome. Recently, mutations in MCT8 have been found to be associated with severe X-linked psychomotor retardation and strongly elevated serum T(3) levels.</td>\n",
       "      <td>0.918188</td>\n",
       "    </tr>\n",
       "    <tr>\n",
       "      <th>611</th>\n",
       "      <td>8627688</td>\n",
       "      <td>Novel thyroid hormones</td>\n",
       "      <td>The field of thyroid hormone signaling has grown more complex in recent years. In particular, it has been suggested that some thyroid hormone derivatives, tentatively named \"novel thyroid hormones\" or \"active thyroid hormone metabolites\", may act as independent chemical messengers. They include 3,5-diiodothyronine (T2), 3-iodothyronamine (T1AM), and several iodothyroacetic acids, i.e., 3,5,3',5'-thyroacetic acid (TA4), 3,5,3'-thyroacetic acid (TA3), and 3-thyroacetic acid (TA1). We summarize the present knowledge on these compounds, namely their biosynthetic pathways, endogenous levels, molecular targets, and the functional effects elicited in experimental preparations or intact animals after exogenous administration. Their physiological and pathophysiological role is discussed, and potential therapeutic applications are outlined. The requirements needed to qualify these substances as chemical messengers must still be validated, although promising evidence has been collected. At present, the best candidate to the role of independent chemical messenger appears to be T1AM, and its most interesting effects concern metabolism and brain function. The responses elicited in experimental animals have suggested potential therapeutic applications. TA3 has an established role in thyroid hormone resistance syndromes, and is under investigation in Allen-Herndon-Dudley syndrome. Other potential targets are represented by obesity and dyslipidemia (for T2 and T1AM); dementia and degenerative brain disease (for T1AM and TA1); cancer (for T1AM and TA4). Another intriguing and unexplored question is the potential relevance of these metabolites in the clinical picture of hypothyroidism and in the response to replacement therapy.</td>\n",
       "      <td>0.914047</td>\n",
       "    </tr>\n",
       "  </tbody>\n",
       "</table>\n",
       "</div>"
      ],
      "text/plain": [
       "       Refid  \\\n",
       "439  8632166   \n",
       "723  7973177   \n",
       "922  1300760   \n",
       "674  7651060   \n",
       "611  8627688   \n",
       "\n",
       "                                                                                 Title  \\\n",
       "439  Thyroid Hormones and Derivatives: Endogenous Thyroid Hormones and Their Targets     \n",
       "723  Chemistry and Biology in the Biosynthesis and Action of Thyroid Hormones            \n",
       "922  3-Iodothyronamine is an endogenous and rapid-acting derivative of thyroid hormone   \n",
       "674  Thyroid hormone transporters in health and disease                                  \n",
       "611  Novel thyroid hormones                                                              \n",
       "\n",
       "                                                                                                                                                                                                                                                                                                                                                                                                                                                                                                                                                                                                                                                                                                                                                                                                                                                                                                                                                                                                                                                                                                                                                                                                                                                                                                                                                                                                                                                                                                                                                                                                                                                                                                                                                                                                                                                                                                                                                                                                                                                                                                                                                                                                                                                        Abstract  \\\n",
       "439  More than a century after the discovery of L-Thyroxine, the main thyroid hormone secreted solely by the thyroid gland, several metabolites of this iodinated, tyrosine-derived ancestral hormone have been identified. These are utilized as hormones during development, differentiation, metamorphosis, and regulation of most biochemical reactions in vertebrates and their precursor species. Among those metabolites are the thyromimetically active 3,3', 5-Triiodo-L-thyronine (T3) and 3,5-Diiodo-L-thronine, reverse-T3 (3,3', 5'-Triiodo-L-thyronine) with still unclear function, the recently re-discovered thyronamines (e.g., 3-Iodo-thyronamine), which exert in part T3-antagonistic functions, the thyroacetic acids (e.g., Tetrac and Triac), as well as various sulfated or glucuronidated metabolites of this panel of iodinated signaling compounds. In the blood most of these hydrophobic metabolites are tightly bound to the serum distributor proteins thyroxine binding globulin (TBG), transthyretin (TTR), albumin or apolipoprotein B100. Cellular import and export of these charged, highly hydrophobic amino acid derivatives requires a number of cell-membrane transporters or facilitators such as MCT8 or MCT10 and members of the OATP and LAT families of transporters. Depending on their structure, the thyroid hormone metabolites exert their cellular action by binding and thus modulating the function of various receptors systems (e.g., alpha nu beta 3 integrin receptor and transient receptor potential channels (TRPM8) of the cell membrane), in part linked to intracellular downstream kinase signaling cascades, and several isoforms of membrane-associated, mitochondrial or nuclear thyroid hormone receptors (TR), which are members of the c-erbA family of ligand-modulated transcription factors. Intracellular deiodinase selenoenzymes, which obligatory are membrane integrated enzymes, ornithine decarboxylase and monoamine oxidases control local availability of biologically active thyroid hormone metabolites. Inactivation of thyroid hormone metabolites occurs mainly by deiodination, sulfation or glucuronidation, reactions which favor their renal or fecal elimination.   \n",
       "723  Thyroid hormones (THs) are secreted by the thyroid gland. They control lipid, carbohydrate, and protein metabolism, heart rate, neural development, as well as cardiovascular, renal, and brain functions. The thyroid gland mainly produces l-thyroxine (T4) as a prohormone, and 5'-deiodination of T4 by iodothyronine deiodinases generates the nuclear receptor binding hormone T3. In this Review, we discuss the basic aspects of the chemistry and biology as well as recent advances in the biosynthesis of THs in the thyroid gland, plasma transport, and internalization of THs in their target organs, in addition to the deiodination and various other enzyme-mediated metabolic pathways of THs. We also discuss thyroid hormone receptors and their mechanism of action to regulate gene expression, as well as various thyroid-related disorders and the available treatments.                                                                                                                                                                                                                                                                                                                                                                                                                                                                                                                                                                                                                                                                                                                                                                                                                                                                                                                                                                                                                                                                                                                                                                                                                                                                                                                                                              \n",
       "922  Thyroxine (T(4)) is the predominant form of thyroid hormone (TH). Hyperthyroidism, a condition associated with excess TH, is characterized by increases in metabolic rate, core body temperature and cardiac performance. In target tissues, T(4) is enzymatically deiodinated to 3,5,3'-triiodothyronine (T(3)), a high-affinity ligand for the nuclear TH receptors TR alpha and TR beta, whose activation controls normal vertebrate development and physiology. T(3)-modulated transcription of target genes via activation of TR alpha and TR beta is a slow process, the effects of which manifest over hours and days. Although rapidly occurring effects of TH have been documented, the molecules that mediate these non-genomic effects remain obscure. Here we report the discovery of 3-iodothyronamine (T(1)AM), a naturally occurring derivative of TH that in vitro is a potent agonist of the G protein-coupled trace amine receptor TAR1. Administering T(1)AM in vivo induces profound hypothermia and bradycardia within minutes. T(1)AM treatment also rapidly reduces cardiac output in an ex vivo working heart preparation. These results suggest the existence of a new signaling pathway, stimulation of which leads to rapid physiological and behavioral consequences that are opposite those associated with excess TH.                                                                                                                                                                                                                                                                                                                                                                                                                                                                                                                                                                                                                                                                                                                                                                                                                                                                                                           \n",
       "674  Cellular entry is required for conversion of thyroid hormone by the intracellular deiodinases and for binding of 3,3',5-triiodothyronine (T(3)) to its nuclear receptors. Recently, several transporters capable of thyroid hormone transport have been identified. Functional expression studies using Xenopus laevis oocytes have demonstrated that organic anion transporters (e.g., OATPs), and L-type amino acid transporters (LATs) facilitate thyroid hormone uptake. Among these, OATP1C1 has a high affinity and specificity for thyroxine (T(4)). OATP1C1 is expressed in capillaries throughout the brain, suggesting it is critical for transport of T(4) over the blood-brain barrier. We have also characterized a member of the monocarboxylate transporter family, MCT8, as a very active and specific thyroid hormone transporter. Human MCT8 shows preference for T(3) as the ligand. MCT8 is highly expressed in liver and brain but is also widely distributed in other tissues. The MCT8 gene is located on the X chromosome. Recently, mutations in MCT8 have been found to be associated with severe X-linked psychomotor retardation and strongly elevated serum T(3) levels.                                                                                                                                                                                                                                                                                                                                                                                                                                                                                                                                                                                                                                                                                                                                                                                                                                                                                                                                                                                                                                                         \n",
       "611  The field of thyroid hormone signaling has grown more complex in recent years. In particular, it has been suggested that some thyroid hormone derivatives, tentatively named \"novel thyroid hormones\" or \"active thyroid hormone metabolites\", may act as independent chemical messengers. They include 3,5-diiodothyronine (T2), 3-iodothyronamine (T1AM), and several iodothyroacetic acids, i.e., 3,5,3',5'-thyroacetic acid (TA4), 3,5,3'-thyroacetic acid (TA3), and 3-thyroacetic acid (TA1). We summarize the present knowledge on these compounds, namely their biosynthetic pathways, endogenous levels, molecular targets, and the functional effects elicited in experimental preparations or intact animals after exogenous administration. Their physiological and pathophysiological role is discussed, and potential therapeutic applications are outlined. The requirements needed to qualify these substances as chemical messengers must still be validated, although promising evidence has been collected. At present, the best candidate to the role of independent chemical messenger appears to be T1AM, and its most interesting effects concern metabolism and brain function. The responses elicited in experimental animals have suggested potential therapeutic applications. TA3 has an established role in thyroid hormone resistance syndromes, and is under investigation in Allen-Herndon-Dudley syndrome. Other potential targets are represented by obesity and dyslipidemia (for T2 and T1AM); dementia and degenerative brain disease (for T1AM and TA1); cancer (for T1AM and TA4). Another intriguing and unexplored question is the potential relevance of these metabolites in the clinical picture of hypothyroidism and in the response to replacement therapy.                                                                                                                                                                                                                                                                                                                                                                                                                                                    \n",
       "\n",
       "     cosine_similarity  \n",
       "439  0.931197           \n",
       "723  0.928544           \n",
       "922  0.921258           \n",
       "674  0.918188           \n",
       "611  0.914047           "
      ]
     },
     "execution_count": 4,
     "metadata": {},
     "output_type": "execute_result"
    }
   ],
   "source": [
    "df_t1[[\"Refid\",\"Title\",\"Abstract\",\"cosine_similarity\"]].sort_values([\"cosine_similarity\"], ascending=False).head()"
   ]
  },
  {
   "cell_type": "markdown",
   "id": "e812f148-c195-4f1e-a0b1-df36fbd01d5d",
   "metadata": {},
   "source": [
    "### Articles with Lowest Cosine Simliarity"
   ]
  },
  {
   "cell_type": "code",
   "execution_count": 5,
   "id": "b4dacfd9-30f2-4a00-b3e2-42616806cc7a",
   "metadata": {},
   "outputs": [
    {
     "data": {
      "text/html": [
       "<div>\n",
       "<style scoped>\n",
       "    .dataframe tbody tr th:only-of-type {\n",
       "        vertical-align: middle;\n",
       "    }\n",
       "\n",
       "    .dataframe tbody tr th {\n",
       "        vertical-align: top;\n",
       "    }\n",
       "\n",
       "    .dataframe thead th {\n",
       "        text-align: right;\n",
       "    }\n",
       "</style>\n",
       "<table border=\"1\" class=\"dataframe\">\n",
       "  <thead>\n",
       "    <tr style=\"text-align: right;\">\n",
       "      <th></th>\n",
       "      <th>Refid</th>\n",
       "      <th>Title</th>\n",
       "      <th>Abstract</th>\n",
       "      <th>cosine_similarity</th>\n",
       "    </tr>\n",
       "  </thead>\n",
       "  <tbody>\n",
       "    <tr>\n",
       "      <th>419</th>\n",
       "      <td>8593286</td>\n",
       "      <td>Nucleation of amyloidogenesis in infectious and noninfectious amyloidoses of brain</td>\n",
       "      <td>NaN</td>\n",
       "      <td>0.491662</td>\n",
       "    </tr>\n",
       "    <tr>\n",
       "      <th>126</th>\n",
       "      <td>8584020</td>\n",
       "      <td>Implantable cardioverter-defibrillator placement in patients with cardiac amyloidosis</td>\n",
       "      <td>NaN</td>\n",
       "      <td>0.506563</td>\n",
       "    </tr>\n",
       "    <tr>\n",
       "      <th>152</th>\n",
       "      <td>8583621</td>\n",
       "      <td>Malnutrition as measured by albumin and prealbumin on admission is associated with poor outcomes after severe traumatic brain injury</td>\n",
       "      <td>NaN</td>\n",
       "      <td>0.507448</td>\n",
       "    </tr>\n",
       "    <tr>\n",
       "      <th>535</th>\n",
       "      <td>8617642</td>\n",
       "      <td>The fractionation of cerebrospinal fluid proteins by cellulose acetate electrophoresis in children with infectious diseases of the central nervous system (author's transl)</td>\n",
       "      <td>The increased permeability of the blood-brain barrier during acute inflammation of the central nervous system leads to changes of the cerebrospinal fluid (C.S.F.) protein pattern. Initially, in the cases of bacterial meningitis, cellulos acetate electrophoresis revealed decreased prealbumin, albumin and tau-globulin fraktion whereas alpha- and gamma-globulin fractions were found increased. In later stages of purulent inflammation a hydrocephalus occurred in five children, associated with an increased amount of albumin in the C.S.F. Cases of viral meningoencephalitis had a characteristic decrease of prealbumin and increase of gamma-globulin, the lowered prealbumin values were found more often. In three cases of congenital encephalitis pathological patterns of C.S.F. proteins were still found 1--1 1/2 years postpartum. Children with acute peripheral facial palsy and febrile convulsions had a normal C.S.F. protein profile.</td>\n",
       "      <td>0.553917</td>\n",
       "    </tr>\n",
       "    <tr>\n",
       "      <th>427</th>\n",
       "      <td>8600993</td>\n",
       "      <td>A case of cerebral amyloid angiopathy-type hereditary ATTR amyloidosis with Y69H (p.Y89H) variant displaying transient focal neurological episodes as the main symptom</td>\n",
       "      <td>NaN</td>\n",
       "      <td>0.555250</td>\n",
       "    </tr>\n",
       "  </tbody>\n",
       "</table>\n",
       "</div>"
      ],
      "text/plain": [
       "       Refid  \\\n",
       "419  8593286   \n",
       "126  8584020   \n",
       "152  8583621   \n",
       "535  8617642   \n",
       "427  8600993   \n",
       "\n",
       "                                                                                                                                                                           Title  \\\n",
       "419  Nucleation of amyloidogenesis in infectious and noninfectious amyloidoses of brain                                                                                            \n",
       "126  Implantable cardioverter-defibrillator placement in patients with cardiac amyloidosis                                                                                         \n",
       "152  Malnutrition as measured by albumin and prealbumin on admission is associated with poor outcomes after severe traumatic brain injury                                          \n",
       "535  The fractionation of cerebrospinal fluid proteins by cellulose acetate electrophoresis in children with infectious diseases of the central nervous system (author's transl)   \n",
       "427  A case of cerebral amyloid angiopathy-type hereditary ATTR amyloidosis with Y69H (p.Y89H) variant displaying transient focal neurological episodes as the main symptom        \n",
       "\n",
       "                                                                                                                                                                                                                                                                                                                                                                                                                                                                                                                                                                                                                                                                                                                                                                                                                                                                                                                                                                  Abstract  \\\n",
       "419  NaN                                                                                                                                                                                                                                                                                                                                                                                                                                                                                                                                                                                                                                                                                                                                                                                                                                                                                                                                                                     \n",
       "126  NaN                                                                                                                                                                                                                                                                                                                                                                                                                                                                                                                                                                                                                                                                                                                                                                                                                                                                                                                                                                     \n",
       "152  NaN                                                                                                                                                                                                                                                                                                                                                                                                                                                                                                                                                                                                                                                                                                                                                                                                                                                                                                                                                                     \n",
       "535  The increased permeability of the blood-brain barrier during acute inflammation of the central nervous system leads to changes of the cerebrospinal fluid (C.S.F.) protein pattern. Initially, in the cases of bacterial meningitis, cellulos acetate electrophoresis revealed decreased prealbumin, albumin and tau-globulin fraktion whereas alpha- and gamma-globulin fractions were found increased. In later stages of purulent inflammation a hydrocephalus occurred in five children, associated with an increased amount of albumin in the C.S.F. Cases of viral meningoencephalitis had a characteristic decrease of prealbumin and increase of gamma-globulin, the lowered prealbumin values were found more often. In three cases of congenital encephalitis pathological patterns of C.S.F. proteins were still found 1--1 1/2 years postpartum. Children with acute peripheral facial palsy and febrile convulsions had a normal C.S.F. protein profile.   \n",
       "427  NaN                                                                                                                                                                                                                                                                                                                                                                                                                                                                                                                                                                                                                                                                                                                                                                                                                                                                                                                                                                     \n",
       "\n",
       "     cosine_similarity  \n",
       "419  0.491662           \n",
       "126  0.506563           \n",
       "152  0.507448           \n",
       "535  0.553917           \n",
       "427  0.555250           "
      ]
     },
     "execution_count": 5,
     "metadata": {},
     "output_type": "execute_result"
    }
   ],
   "source": [
    "df_t1[[\"Refid\",\"Title\",\"Abstract\",\"cosine_similarity\"]].sort_values([\"cosine_similarity\"]).head()"
   ]
  }
 ],
 "metadata": {
  "kernelspec": {
   "display_name": "Python 3 (ipykernel)",
   "language": "python",
   "name": "python3"
  },
  "language_info": {
   "codemirror_mode": {
    "name": "ipython",
    "version": 3
   },
   "file_extension": ".py",
   "mimetype": "text/x-python",
   "name": "python",
   "nbconvert_exporter": "python",
   "pygments_lexer": "ipython3",
   "version": "3.8.6"
  }
 },
 "nbformat": 4,
 "nbformat_minor": 5
}
