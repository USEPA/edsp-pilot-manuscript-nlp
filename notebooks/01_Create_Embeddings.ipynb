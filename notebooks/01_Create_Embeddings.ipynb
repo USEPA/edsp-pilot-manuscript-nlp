{
 "cells": [
  {
   "cell_type": "code",
   "execution_count": 1,
   "id": "1d6aa3c7",
   "metadata": {},
   "outputs": [],
   "source": [
    "import pandas as pd\n",
    "import requests\n",
    "import json\n",
    "import numpy as np\n",
    "\n",
    "from tqdm import tqdm\n",
    "from transformers import AutoTokenizer, AutoModel, pipeline"
   ]
  },
  {
   "cell_type": "markdown",
   "id": "4b99c925",
   "metadata": {},
   "source": [
    "### Create Embeddings\n",
    "\n",
    "The purpose of this notebook is to create embeddings from article titles + abstracts for downstream analysis. Currently, using [SPECTER](https://github.com/allenai/specter) as a feature extractor."
   ]
  },
  {
   "cell_type": "code",
   "execution_count": 2,
   "id": "d9f95dbb",
   "metadata": {},
   "outputs": [],
   "source": [
    "input_path = \"../data/target1_cleaned.csv\"\n",
    "save_path = \"../embeddings/specter_embeddings_target1.json\"\n",
    "\n",
    "df = pd.read_csv(input_path)"
   ]
  },
  {
   "cell_type": "code",
   "execution_count": 3,
   "id": "44e04188",
   "metadata": {
    "scrolled": true
   },
   "outputs": [
    {
     "data": {
      "application/vnd.jupyter.widget-view+json": {
       "model_id": "66511e63bbb54ec49ae77286522c61e9",
       "version_major": 2,
       "version_minor": 0
      },
      "text/plain": [
       "pytorch_model.bin:   0%|          | 0.00/440M [00:00<?, ?B/s]"
      ]
     },
     "metadata": {},
     "output_type": "display_data"
    }
   ],
   "source": [
    "# load model and tokenizer\n",
    "tokenizer = AutoTokenizer.from_pretrained(\"allenai/specter\")\n",
    "model = AutoModel.from_pretrained(\"allenai/specter\")"
   ]
  },
  {
   "cell_type": "code",
   "execution_count": 4,
   "id": "bc21dc68",
   "metadata": {},
   "outputs": [
    {
     "name": "stderr",
     "output_type": "stream",
     "text": [
      "100%|██████████████████████████████████████████| 19/19 [32:30<00:00, 102.66s/it]\n"
     ]
    }
   ],
   "source": [
    "# Reformat title + abstract\n",
    "papers = df[[\"Title\", \"Abstract\"]].fillna(\"\").to_dict(\"records\")\n",
    "\n",
    "# Concatenate title and abstract\n",
    "title_abs = [\n",
    "    d[\"Title\"] + tokenizer.sep_token + (d.get(\"Abstract\") or \"\") for d in papers\n",
    "]\n",
    "\n",
    "def create_embeddings(tokenizer, model, title_abs, chunk_size=50):\n",
    "\n",
    "    # Separate title_abs into article chunks to prevent kernal crashes\n",
    "    chunk_size = chunk_size\n",
    "    chunks = [\n",
    "        title_abs[x : x + chunk_size] for x in range(0, len(title_abs), chunk_size)\n",
    "    ]\n",
    "\n",
    "    # Create embeddings\n",
    "    embed = []\n",
    "    for chunk in tqdm(chunks):\n",
    "\n",
    "        # Preprocess the input\n",
    "        inputs = tokenizer(\n",
    "            chunk, padding=True, truncation=True, return_tensors=\"pt\", max_length=512\n",
    "        )\n",
    "        result = model(**inputs)\n",
    "\n",
    "        # Take the first token in the batch as the embedding\n",
    "        embeddings = result.last_hidden_state[:, 0, :]\n",
    "\n",
    "        # Append batch to full embedding list\n",
    "        embeddings_list = embeddings.tolist()\n",
    "        embed = embed + embeddings_list\n",
    "\n",
    "    return embed\n",
    "\n",
    "specter_embed = create_embeddings(tokenizer, model, title_abs)"
   ]
  },
  {
   "cell_type": "code",
   "execution_count": 5,
   "id": "6576fbed",
   "metadata": {},
   "outputs": [],
   "source": [
    "def save_embedding_json(df, file_name, embedding, id_type=\"refid\"):\n",
    "\n",
    "    embed_json = []\n",
    "    for i, j in zip(df.index, embedding):\n",
    "        embed_dict = {}\n",
    "        embed_dict[\"id\"] = i\n",
    "        if id_type == \"refid\":\n",
    "            embed_dict[\"Refid\"] = int(df[\"Refid\"][i])\n",
    "        else:\n",
    "            embed_dict[\"PMID\"] = int(df[\"pmid\"][i])\n",
    "        embed_dict[\"embedding\"] = j\n",
    "        embed_json.append(embed_dict)\n",
    "\n",
    "    with open(file_name, \"w\") as fp:\n",
    "        json.dump(embed_json, fp)\n",
    "\n",
    "\n",
    "save_embedding_json(df, save_path, specter_embed)"
   ]
  }
 ],
 "metadata": {
  "kernelspec": {
   "display_name": "Python 3 (ipykernel)",
   "language": "python",
   "name": "python3"
  },
  "language_info": {
   "codemirror_mode": {
    "name": "ipython",
    "version": 3
   },
   "file_extension": ".py",
   "mimetype": "text/x-python",
   "name": "python",
   "nbconvert_exporter": "python",
   "pygments_lexer": "ipython3",
   "version": "3.8.6"
  }
 },
 "nbformat": 4,
 "nbformat_minor": 5
}
